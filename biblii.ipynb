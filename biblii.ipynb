{
 "cells": [
  {
   "cell_type": "code",
   "execution_count": 1,
   "metadata": {},
   "outputs": [],
   "source": [
    "class Material:\n",
    "    def __init__(self, titulo, tipo, estado=\"disponible\"):\n",
    "        self.titulo = titulo\n",
    "        self.tipo = tipo\n",
    "        self.estado = estado\n",
    "    \n",
    "    def cambiar_estado(self, estado):\n",
    "        self.estado = estado\n",
    "        print(f\"El estado del material '{self.titulo}' ha sido cambiado a {self.estado}\")"
   ]
  },
  {
   "cell_type": "code",
   "execution_count": 2,
   "metadata": {},
   "outputs": [],
   "source": [
    "class Libro(Material):\n",
    "    def __init__(self, titulo, autor, genero, estado=\"disponible\"):\n",
    "        super().__init__(titulo, \"Libro\", estado)\n",
    "        self.autor = autor\n",
    "        self.genero = genero"
   ]
  },
  {
   "cell_type": "code",
   "execution_count": 3,
   "metadata": {},
   "outputs": [],
   "source": [
    "class Revista(Material):\n",
    "    def __init__(self, titulo, edicion, periodicidad, estado=\"disponible\"):\n",
    "        super().__init__(titulo, \"Revista\", estado)\n",
    "        self.edicion = edicion\n",
    "        self.periodicidad = periodicidad"
   ]
  },
  {
   "cell_type": "code",
   "execution_count": 4,
   "metadata": {},
   "outputs": [],
   "source": [
    "class MaterialDigital(Material):\n",
    "    def __init__(self, titulo, tipo_archivo, enlace_descarga, estado=\"disponible\"):\n",
    "        super().__init__(titulo, \"Material Digital\", estado)\n",
    "        self.tipo_archivo = tipo_archivo\n",
    "        self.enlace_descarga = enlace_descarga"
   ]
  },
  {
   "cell_type": "code",
   "execution_count": 5,
   "metadata": {},
   "outputs": [],
   "source": [
    "class Persona:\n",
    "    def __init__(self, nombre, email):\n",
    "        self.nombre = nombre\n",
    "        self.email = email\n"
   ]
  },
  {
   "cell_type": "code",
   "execution_count": 6,
   "metadata": {},
   "outputs": [],
   "source": [
    "class Usuario(Persona):\n",
    "    def __init__(self, nombre, email):\n",
    "        super().__init__(nombre, email)\n",
    "        self.materiales_prestados = []\n",
    "\n",
    "    def consultar_catalogo(self, catalogo):\n",
    "        catalogo.mostrar_materiales()\n",
    "\n",
    "    def prestar_material(self, material, biblioteca, fecha_devolucion):\n",
    "        if material.estado == \"disponible\":\n",
    "            prestamo = Prestamo(self, material, fecha_devolucion)\n",
    "            self.materiales_prestados.append(prestamo)\n",
    "            biblioteca.registrar_prestamo(prestamo)\n",
    "            material.cambiar_estado(\"prestado\")\n",
    "            print(f\"{self.nombre} ha solicitado el material '{material.titulo}'\")\n",
    "        else:\n",
    "            print(f\"El material '{material.titulo}' no está disponible.\")"
   ]
  },
  {
   "cell_type": "code",
   "execution_count": 7,
   "metadata": {},
   "outputs": [],
   "source": [
    "class Bibliotecario(Persona):\n",
    "    def __init__(self, nombre, email):\n",
    "        super().__init__(nombre, email)\n",
    "\n",
    "    def agregar_material(self, material, sucursal):\n",
    "        sucursal.agregar_material(material)\n",
    "        print(f\"El bibliotecario {self.nombre} ha agregado '{material.titulo}' a la sucursal.\")\n",
    "    \n",
    "    def transferir_material(self, material, origen, destino):\n",
    "        if material in origen.catalogo:\n",
    "            origen.eliminar_material(material)\n",
    "            destino.agregar_material(material)\n",
    "            print(f\"'{material.titulo}' ha sido transferido de {origen.nombre} a {destino.nombre}.\")\n"
   ]
  },
  {
   "cell_type": "code",
   "execution_count": 8,
   "metadata": {},
   "outputs": [],
   "source": [
    "class Sucursal:\n",
    "    def __init__(self, nombre):\n",
    "        self.nombre = nombre\n",
    "        self.catalogo = []\n",
    "        self.prestamos = []\n",
    "\n",
    "    def agregar_material(self, material):\n",
    "        self.catalogo.append(material)\n",
    "\n",
    "    def eliminar_material(self, material):\n",
    "        self.catalogo.remove(material)\n",
    "\n",
    "    def mostrar_materiales(self):\n",
    "        print(f\"Catálogo de la sucursal {self.nombre}:\")\n",
    "        for material in self.catalogo:\n",
    "            print(f\"- {material.titulo} ({material.estado})\")\n",
    "\n",
    "    def registrar_prestamo(self, prestamo):\n",
    "        self.prestamos.append(prestamo)\n",
    "        print(f\"Se ha registrado el préstamo de '{prestamo.material.titulo}' a {prestamo.usuario.nombre}\")\n"
   ]
  },
  {
   "cell_type": "code",
   "execution_count": 9,
   "metadata": {},
   "outputs": [],
   "source": [
    "class Prestamo:\n",
    "    def __init__(self, usuario, material, fecha_devolucion):\n",
    "        self.usuario = usuario\n",
    "        self.material = material\n",
    "        self.fecha_prestamo = None  \n",
    "        self.fecha_devolucion = fecha_devolucion  \n",
    "        self.penalizacion = None\n",
    "\n",
    "    def devolver_material(self):\n",
    "        if self.es_retraso():\n",
    "            self.penalizacion = Penalizacion(self)\n",
    "            self.penalizacion.aplicar_penalizacion()\n",
    "        self.material.cambiar_estado(\"disponible\")\n",
    "        print(f\"El material '{self.material.titulo}' ha sido devuelto.\")\n",
    "\n",
    "    def es_retraso(self):\n",
    "        fecha_actual = \"2025-02-15\"  \n",
    "        return self.fecha_devolucion < fecha_actual\n"
   ]
  },
  {
   "cell_type": "code",
   "execution_count": 10,
   "metadata": {},
   "outputs": [],
   "source": [
    "class Penalizacion:\n",
    "    def __init__(self, prestamo):\n",
    "        self.prestamo = prestamo\n",
    "        self.multa = 0\n",
    "\n",
    "    def aplicar_penalizacion(self):\n",
    "        dias_retraso = self.calcular_dias_retraso(self.prestamo.fecha_devolucion, \"2025-02-15\")\n",
    "        if dias_retraso > 0:\n",
    "            self.multa = dias_retraso * 1  \n",
    "            print(f\"Se ha aplicado una multa de {self.multa} por el retraso en la devolución de '{self.prestamo.material.titulo}'.\")\n",
    "\n",
    "    def calcular_dias_retraso(self, fecha_devolucion, fecha_actual):\n",
    "        fecha_devolucion = [int(x) for x in fecha_devolucion.split(\"-\")]\n",
    "        fecha_actual = [int(x) for x in fecha_actual.split(\"-\")]\n",
    "\n",
    "        dias_devolucion = fecha_devolucion[0] * 365 + fecha_devolucion[1] * 30 + fecha_devolucion[2]\n",
    "        dias_actual = fecha_actual[0] * 365 + fecha_actual[1] * 30 + fecha_actual[2]\n",
    "        return max(0, dias_actual - dias_devolucion)\n"
   ]
  },
  {
   "cell_type": "code",
   "execution_count": 11,
   "metadata": {},
   "outputs": [],
   "source": [
    "class Catalogo:\n",
    "    def __init__(self):\n",
    "        self.materiales = []\n",
    "\n",
    "    def agregar_material(self, material):\n",
    "        self.materiales.append(material)\n",
    "\n",
    "    def buscar_por_titulo(self, titulo):\n",
    "        for material in self.materiales:\n",
    "            if titulo.lower() in material.titulo.lower():\n",
    "                print(f\"Encontrado: {material.titulo} ({material.tipo})\")\n",
    "\n",
    "    def buscar_por_tipo(self, tipo):\n",
    "        for material in self.materiales:\n",
    "            if material.tipo.lower() == tipo.lower():\n",
    "                print(f\"Encontrado: {material.titulo} ({material.tipo})\")\n",
    "\n",
    "    def mostrar_materiales(self):\n",
    "        print(\"Catálogo de materiales:\")\n",
    "        for material in self.materiales:\n",
    "            print(f\"- {material.titulo} ({material.tipo})\")"
   ]
  },
  {
   "cell_type": "code",
   "execution_count": 12,
   "metadata": {},
   "outputs": [
    {
     "name": "stdout",
     "output_type": "stream",
     "text": [
      "El bibliotecario Laura ha agregado 'Orgullo y prejuicio' a la sucursal.\n",
      "El bibliotecario Laura ha agregado 'Vogue' a la sucursal.\n",
      "El bibliotecario Laura ha agregado 'Curso de Python' a la sucursal.\n",
      "Catálogo de materiales:\n",
      "- Orgullo y prejuicio (Libro)\n",
      "- Vogue (Revista)\n",
      "- Curso de Python (Material Digital)\n",
      "Se ha registrado el préstamo de 'La sombra del viento' a Dylan\n",
      "El estado del material 'La sombra del viento' ha sido cambiado a prestado\n",
      "Dylan ha solicitado el material 'La sombra del viento'\n",
      "Se ha aplicado una multa de 5 por el retraso en la devolución de 'La sombra del viento'.\n",
      "El estado del material 'La sombra del viento' ha sido cambiado a disponible\n",
      "El material 'La sombra del viento' ha sido devuelto.\n"
     ]
    }
   ],
   "source": [
    "sucursal_1 = Sucursal(\"sucursal centro\")\n",
    "sucursal_2 = Sucursal(\"Sucursal norte\")\n",
    "\n",
    "\n",
    "libro_1 = Libro(\"El alquimista\", \"Paulo Coelho\", \"Ficción\")\n",
    "libro_2 = Libro(\"Matar a un ruiseñor\", \"Harper Lee\", \"Drama\")\n",
    "libro_3 = Libro(\"La sombra del viento\", \"Carlos Ruiz Zafón\", \"Misterio\")\n",
    "libro_4 = Libro(\"Cumbres borrascosas\", \"Emily Brontë\", \"Romántico\")\n",
    "libro_5 = Libro(\"Orgullo y prejuicio\", \"Jane Austen\", \"Romántico\")\n",
    "libro_6 = Libro(\"La guerra de los mundos\", \"H.G. Wells\", \"Ciencia ficción\")\n",
    "\n",
    "revista_1 = Revista(\"National Geographic\", \"Edición de febrero\", \"Mensual\")\n",
    "revista_2 = Revista(\"Time\", \"Edición de marzo\", \"Semanal\")\n",
    "revista_3 = Revista(\"Vogue\", \"Edición de enero\", \"Mensual\")\n",
    "revista_4 = Revista(\"Scientific American\", \"Edición de abril\", \"Mensual\")\n",
    "revista_5 = Revista(\"Rolling Stone\", \"Edición de diciembre\", \"Quincenal\")\n",
    "revista_6 = Revista(\"Forbes\", \"Edición de septiembre\", \"Mensual\")\n",
    "revista_7 = Revista(\"The Economist\", \"Edición de agosto\", \"Semanal\")\n",
    "\n",
    "material_digital_1 = MaterialDigital(\"Curso de Python\", \"PDF\", \"enlace.com\")\n",
    "material_digital_2 = MaterialDigital(\"Introducción a la Inteligencia Artificial\", \"PDF\", \"ia-curso.com\")\n",
    "material_digital_3 = MaterialDigital(\"Tutorial de JavaScript\", \"Video\", \"tutorialjs.com\")\n",
    "material_digital_4 = MaterialDigital(\"Guía de Diseño Gráfico\", \"eBook\", \"disenografico.com\")\n",
    "material_digital_5 = MaterialDigital(\"Curso de Machine Learning\", \"PDF\", \"ml-curso.com\")\n",
    "material_digital_6 = MaterialDigital(\"Curso de Desarrollo Web\", \"Video\", \"desarrolloweb.com\")\n",
    "material_digital_7 = MaterialDigital(\"Introducción a la Programación en C\", \"PDF\", \"programacionenC.com\")\n",
    "\n",
    "\n",
    "bibliotecario_1 = Bibliotecario(\"Laura\", \"laura@biblioteca.com\")\n",
    "\n",
    "bibliotecario_1.agregar_material(libro_5, sucursal_1)\n",
    "bibliotecario_1.agregar_material(revista_3, sucursal_2)\n",
    "bibliotecario_1.agregar_material(material_digital_1, sucursal_1)\n",
    "\n",
    "catalogo = Catalogo()\n",
    "catalogo.agregar_material(libro_5)\n",
    "catalogo.agregar_material(revista_3)\n",
    "catalogo.agregar_material(material_digital_1)\n",
    "\n",
    "usuario_1 = Usuario(\"Dylan\", \"dylan@correo.com\")\n",
    "\n",
    "usuario_1.consultar_catalogo(catalogo)\n",
    "\n",
    "usuario_1.prestar_material(libro_3, sucursal_1, \"2025-02-20\")\n",
    "\n",
    "bibliotecario_1.transferir_material(libro_3, sucursal_1, sucursal_2)\n",
    "\n",
    "prestamo = Prestamo(usuario_1, libro_3, \"2025-02-10\")\n",
    "prestamo.devolver_material()"
   ]
  }
 ],
 "metadata": {
  "kernelspec": {
   "display_name": "Python 3",
   "language": "python",
   "name": "python3"
  },
  "language_info": {
   "codemirror_mode": {
    "name": "ipython",
    "version": 3
   },
   "file_extension": ".py",
   "mimetype": "text/x-python",
   "name": "python",
   "nbconvert_exporter": "python",
   "pygments_lexer": "ipython3",
   "version": "3.13.1"
  }
 },
 "nbformat": 4,
 "nbformat_minor": 2
}
